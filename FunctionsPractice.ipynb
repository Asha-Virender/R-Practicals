{
 "cells": [
  {
   "cell_type": "code",
   "execution_count": 1,
   "id": "46056447",
   "metadata": {},
   "outputs": [
    {
     "name": "stdout",
     "output_type": "stream",
     "text": [
      "[1] \"1. Number is : 1\"\n",
      "[1] \"2. Number is : 2\"\n",
      "[1] \"3. Number is : 3\"\n",
      "[1] \"4. Number is : 4\"\n",
      "[1] \"\"\n",
      "[1] \"1. Number is : 5\"\n",
      "[1] \"2. Number is : 6\"\n",
      "[1] \"3. Number is : 7\"\n",
      "[1] \"4. Number is : 8\"\n"
     ]
    }
   ],
   "source": [
    "output_Layout <- function(ph,cec,ec,toc){\n",
    "    \n",
    "    print(paste(\"1. Number is :\",ph));\n",
    "    print(paste(\"2. Number is :\",cec));\n",
    "    print(paste(\"3. Number is :\",ec)); \n",
    "    print(paste(\"4. Number is :\",toc));\n",
    "    \n",
    "}\n",
    "\n",
    "output_Layout(1,2,3,4);\n",
    "print(\"\");\n",
    "output_Layout(5,6,7,8);"
   ]
  },
  {
   "cell_type": "code",
   "execution_count": 2,
   "id": "d1682023",
   "metadata": {},
   "outputs": [
    {
     "name": "stdout",
     "output_type": "stream",
     "text": [
      "[1] 60\n"
     ]
    }
   ],
   "source": [
    "calc <- function(one,two){\n",
    "    one+two;\n",
    "}\n",
    "\n",
    "a=10;\n",
    "b=20;\n",
    "\n",
    "c=calc(calc(a,b),calc(a,b));\n",
    "\n",
    "print(c);"
   ]
  },
  {
   "cell_type": "code",
   "execution_count": 3,
   "id": "49ed397d",
   "metadata": {},
   "outputs": [
    {
     "name": "stdout",
     "output_type": "stream",
     "text": [
      "[1] 340\n"
     ]
    }
   ],
   "source": [
    "plus <-function(x,y){\n",
    "    inner_multiply <- function(x,y){\n",
    "        return (x*y);\n",
    "     }        \n",
    "        \n",
    "    z <-inner_multiply(x,y);\n",
    "    \n",
    "    return (x+y+z);\n",
    "}\n",
    "\n",
    "q = plus(10,30);\n",
    "\n",
    "\n",
    "print(q);"
   ]
  },
  {
   "cell_type": "code",
   "execution_count": 6,
   "id": "6a868f01",
   "metadata": {},
   "outputs": [
    {
     "name": "stdout",
     "output_type": "stream",
     "text": [
      "[1] 6\n",
      "[1] 5\n",
      "[1] 4\n",
      "[1] 3\n",
      "[1] 2\n",
      "[1] 1\n"
     ]
    },
    {
     "data": {
      "text/html": [
       "0"
      ],
      "text/latex": [
       "0"
      ],
      "text/markdown": [
       "0"
      ],
      "text/plain": [
       "[1] 0"
      ]
     },
     "metadata": {},
     "output_type": "display_data"
    }
   ],
   "source": [
    "a <- 1\n",
    "\n",
    "tri_recursion <- function(k) {\n",
    "    if(k>0){\n",
    "        print(k);\n",
    "        return (tri_recursion(k-1));\n",
    "    }else{\n",
    "        return(k);\n",
    "    }\n",
    "}\n",
    "tri_recursion(6)"
   ]
  },
  {
   "cell_type": "code",
   "execution_count": 7,
   "id": "b08f8f25",
   "metadata": {},
   "outputs": [
    {
     "name": "stdout",
     "output_type": "stream",
     "text": [
      "[1] 7\n",
      "[1] 6\n",
      "[1] 5\n",
      "[1] 4\n",
      "[1] 3\n",
      "[1] 2\n"
     ]
    },
    {
     "data": {
      "text/html": [
       "0"
      ],
      "text/latex": [
       "0"
      ],
      "text/markdown": [
       "0"
      ],
      "text/plain": [
       "[1] 0"
      ]
     },
     "metadata": {},
     "output_type": "display_data"
    },
    {
     "name": "stdout",
     "output_type": "stream",
     "text": [
      "[1] 1\n"
     ]
    }
   ],
   "source": [
    " a <- 1\n",
    "\n",
    "tri_recursion <- function(k) {\n",
    "    if(k>0) {\n",
    "        print(a+k);\n",
    "        return (tri_recursion(k-1));        \n",
    "       }else{\n",
    "        return (k);\n",
    "    }\n",
    "}\n",
    "\n",
    "tri_recursion(6);\n",
    "print(a);"
   ]
  },
  {
   "cell_type": "markdown",
   "id": "bb5213e1",
   "metadata": {},
   "source": [
    "nested function"
   ]
  },
  {
   "cell_type": "code",
   "execution_count": 9,
   "id": "2de532f0",
   "metadata": {
    "scrolled": true
   },
   "outputs": [
    {
     "name": "stdout",
     "output_type": "stream",
     "text": [
      "[1] 4990\n"
     ]
    }
   ],
   "source": [
    "x <- 5 \n",
    "y <- 10\n",
    "z <- 20\n",
    "\n",
    "plus <-function(x,y,z){\n",
    "    inner_multiply <- function(x,y,z){\n",
    "        return (x*y*z);\n",
    "         \n",
    "    }        \n",
    "        \n",
    "    a <-inner_multiply(x,y,z);\n",
    "    \n",
    "    return (a*x+y-z);\n",
    "}\n",
    "\n",
    "q = plus(5,10,20);\n",
    "\n",
    "\n",
    "print(q);"
   ]
  },
  {
   "cell_type": "code",
   "execution_count": null,
   "id": "59b9e303",
   "metadata": {},
   "outputs": [],
   "source": []
  },
  {
   "cell_type": "markdown",
   "id": "ed3fb144",
   "metadata": {},
   "source": [
    "matrix pattern sample recursion"
   ]
  },
  {
   "cell_type": "code",
   "execution_count": 8,
   "id": "08a7561e",
   "metadata": {},
   "outputs": [
    {
     "name": "stdout",
     "output_type": "stream",
     "text": [
      " [1] 11 12 13 14 15 16 17 18 19 20\n",
      " [1] 10 11 12 13 14 15 16 17 18 19\n",
      " [1]  9 10 11 12 13 14 15 16 17 18\n",
      " [1]  8  9 10 11 12 13 14 15 16 17\n",
      " [1]  7  8  9 10 11 12 13 14 15 16\n",
      " [1]  6  7  8  9 10 11 12 13 14 15\n",
      " [1]  5  6  7  8  9 10 11 12 13 14\n",
      " [1]  4  5  6  7  8  9 10 11 12 13\n",
      " [1]  3  4  5  6  7  8  9 10 11 12\n",
      " [1]  2  3  4  5  6  7  8  9 10 11\n"
     ]
    },
    {
     "data": {
      "text/html": [
       "0"
      ],
      "text/latex": [
       "0"
      ],
      "text/markdown": [
       "0"
      ],
      "text/plain": [
       "[1] 0"
      ]
     },
     "metadata": {},
     "output_type": "display_data"
    },
    {
     "name": "stdout",
     "output_type": "stream",
     "text": [
      " [1]  1  2  3  4  5  6  7  8  9 10\n"
     ]
    }
   ],
   "source": [
    "\n",
    " a <- (1:10)\n",
    "\n",
    "tri_recursion <- function(k) {\n",
    "    if(k>0) {\n",
    "        print(a+k);\n",
    "        return (tri_recursion(k-1));        \n",
    "       }else{\n",
    "        return (k);\n",
    "    }\n",
    "}\n",
    "\n",
    "tri_recursion(10);\n",
    "print(a);"
   ]
  },
  {
   "cell_type": "code",
   "execution_count": null,
   "id": "9f0af1db",
   "metadata": {},
   "outputs": [],
   "source": []
  }
 ],
 "metadata": {
  "kernelspec": {
   "display_name": "R",
   "language": "R",
   "name": "ir"
  },
  "language_info": {
   "codemirror_mode": "r",
   "file_extension": ".r",
   "mimetype": "text/x-r-source",
   "name": "R",
   "pygments_lexer": "r",
   "version": "3.6.1"
  }
 },
 "nbformat": 4,
 "nbformat_minor": 5
}
