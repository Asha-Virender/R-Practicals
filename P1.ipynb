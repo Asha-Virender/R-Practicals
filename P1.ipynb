{
 "cells": [
  {
   "cell_type": "code",
   "execution_count": 12,
   "id": "8fdcb02f",
   "metadata": {},
   "outputs": [
    {
     "data": {
      "text/html": [
       "350"
      ],
      "text/latex": [
       "350"
      ],
      "text/markdown": [
       "350"
      ],
      "text/plain": [
       "[1] 350"
      ]
     },
     "metadata": {},
     "output_type": "display_data"
    }
   ],
   "source": [
    "1000*5/20+100"
   ]
  },
  {
   "cell_type": "code",
   "execution_count": 1,
   "id": "ca857900",
   "metadata": {},
   "outputs": [
    {
     "data": {
      "text/html": [
       "'6'"
      ],
      "text/latex": [
       "'6'"
      ],
      "text/markdown": [
       "'6'"
      ],
      "text/plain": [
       "[1] \"6\""
      ]
     },
     "metadata": {},
     "output_type": "display_data"
    }
   ],
   "source": [
    "\"6\""
   ]
  },
  {
   "cell_type": "code",
   "execution_count": 14,
   "id": "f34b9ccb",
   "metadata": {},
   "outputs": [],
   "source": [
    "#\"Test Ok\""
   ]
  },
  {
   "cell_type": "code",
   "execution_count": 25,
   "id": "648af560",
   "metadata": {},
   "outputs": [
    {
     "data": {
      "text/html": [
       "'RScore Value : 1.5656'"
      ],
      "text/latex": [
       "'RScore Value : 1.5656'"
      ],
      "text/markdown": [
       "'RScore Value : 1.5656'"
      ],
      "text/plain": [
       "[1] \"RScore Value : 1.5656\""
      ]
     },
     "metadata": {},
     "output_type": "display_data"
    }
   ],
   "source": [
    "dataset = \"RScore Value :\"\n",
    "\n",
    "Testing <- 1.5656\n",
    "\n",
    "\n",
    "\n",
    "paste(dataset,Testing)"
   ]
  },
  {
   "cell_type": "code",
   "execution_count": 27,
   "id": "c8a78d44",
   "metadata": {},
   "outputs": [
    {
     "data": {
      "text/html": [
       "'Btech'"
      ],
      "text/latex": [
       "'Btech'"
      ],
      "text/markdown": [
       "'Btech'"
      ],
      "text/plain": [
       "[1] \"Btech\""
      ]
     },
     "metadata": {},
     "output_type": "display_data"
    },
    {
     "data": {
      "text/html": [
       "'Btech'"
      ],
      "text/latex": [
       "'Btech'"
      ],
      "text/markdown": [
       "'Btech'"
      ],
      "text/plain": [
       "[1] \"Btech\""
      ]
     },
     "metadata": {},
     "output_type": "display_data"
    },
    {
     "data": {
      "text/html": [
       "'Btech'"
      ],
      "text/latex": [
       "'Btech'"
      ],
      "text/markdown": [
       "'Btech'"
      ],
      "text/plain": [
       "[1] \"Btech\""
      ]
     },
     "metadata": {},
     "output_type": "display_data"
    }
   ],
   "source": [
    "a<-b<-c<-\"Btech\"\n",
    "a\n",
    "b\n",
    "c"
   ]
  },
  {
   "cell_type": "code",
   "execution_count": 28,
   "id": "734d70be",
   "metadata": {},
   "outputs": [
    {
     "data": {
      "image/png": "[encoded data removed]",
      "text/plain": [
       "plot without title"
      ]
     },
     "metadata": {},
     "output_type": "display_data"
    }
   ],
   "source": [
    "plot(1:10)"
   ]
  },
  {
   "cell_type": "code",
   "execution_count": null,
   "id": "b15e732d",
   "metadata": {},
   "outputs": [],
   "source": [
    "data_1 = \"\"\n",
    "1data = \"\""
   ]
  }
 ],
 "metadata": {
  "kernelspec": {
   "display_name": "R",
   "language": "R",
   "name": "ir"
  },
  "language_info": {
   "codemirror_mode": "r",
   "file_extension": ".r",
   "mimetype": "text/x-r-source",
   "name": "R",
   "pygments_lexer": "r",
   "version": "3.6.1"
  }
 },
 "nbformat": 4,
 "nbformat_minor": 5
}
