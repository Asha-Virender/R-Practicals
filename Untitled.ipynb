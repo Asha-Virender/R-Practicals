{
 "cells": [
  {
   "cell_type": "code",
   "execution_count": 5,
   "id": "71a1c895",
   "metadata": {},
   "outputs": [
    {
     "data": {
      "text/html": [
       "<ol>\n",
       "\t<li>'one,two,three,four,five'</li>\n",
       "\t<li>'three'</li>\n",
       "</ol>\n"
      ],
      "text/latex": [
       "\\begin{enumerate}\n",
       "\\item 'one,two,three,four,five'\n",
       "\\item 'three'\n",
       "\\end{enumerate}\n"
      ],
      "text/markdown": [
       "1. 'one,two,three,four,five'\n",
       "2. 'three'\n",
       "\n",
       "\n"
      ],
      "text/plain": [
       "[[1]]\n",
       "[1] \"one,two,three,four,five\"\n",
       "\n",
       "[[2]]\n",
       "[1] \"three\"\n"
      ]
     },
     "metadata": {},
     "output_type": "display_data"
    }
   ],
   "source": [
    "# global scope\n",
    "list_a = list();\n",
    "list_b = list(\"one,two,three,four,five\");\n",
    "\n",
    "\n",
    "mylist = c(list_a,list_b);\n",
    "mylist = append(mylist,\"three\",after = 2);\n",
    "\n",
    "mylist;\n",
    "\n",
    "\n"
   ]
  },
  {
   "cell_type": "code",
   "execution_count": null,
   "id": "7358c5c5",
   "metadata": {},
   "outputs": [],
   "source": []
  },
  {
   "cell_type": "code",
   "execution_count": null,
   "id": "9ce14405",
   "metadata": {},
   "outputs": [],
   "source": []
  }
 ],
 "metadata": {
  "kernelspec": {
   "display_name": "R",
   "language": "R",
   "name": "ir"
  },
  "language_info": {
   "codemirror_mode": "r",
   "file_extension": ".r",
   "mimetype": "text/x-r-source",
   "name": "R",
   "pygments_lexer": "r",
   "version": "3.6.1"
  }
 },
 "nbformat": 4,
 "nbformat_minor": 5
}
