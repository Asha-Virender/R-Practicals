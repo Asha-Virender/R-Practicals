{
 "cells": [
  {
   "cell_type": "code",
   "execution_count": 16,
   "id": "2e55b6d3",
   "metadata": {},
   "outputs": [
    {
     "data": {
      "text/html": [
       "<ol>\n",
       "\t<li>'TestDataOne'</li>\n",
       "\t<li>'TestDataTwo'</li>\n",
       "\t<li>'TestDataThree'</li>\n",
       "</ol>\n"
      ],
      "text/latex": [
       "\\begin{enumerate}\n",
       "\\item 'TestDataOne'\n",
       "\\item 'TestDataTwo'\n",
       "\\item 'TestDataThree'\n",
       "\\end{enumerate}\n"
      ],
      "text/markdown": [
       "1. 'TestDataOne'\n",
       "2. 'TestDataTwo'\n",
       "3. 'TestDataThree'\n",
       "\n",
       "\n"
      ],
      "text/plain": [
       "[[1]]\n",
       "[1] \"TestDataOne\"\n",
       "\n",
       "[[2]]\n",
       "[1] \"TestDataTwo\"\n",
       "\n",
       "[[3]]\n",
       "[1] \"TestDataThree\"\n"
      ]
     },
     "metadata": {},
     "output_type": "display_data"
    },
    {
     "data": {
      "text/html": [
       "<ol>\n",
       "\t<li>'TestDataOne'</li>\n",
       "\t<li>'TestDataThree'</li>\n",
       "</ol>\n"
      ],
      "text/latex": [
       "\\begin{enumerate}\n",
       "\\item 'TestDataOne'\n",
       "\\item 'TestDataThree'\n",
       "\\end{enumerate}\n"
      ],
      "text/markdown": [
       "1. 'TestDataOne'\n",
       "2. 'TestDataThree'\n",
       "\n",
       "\n"
      ],
      "text/plain": [
       "[[1]]\n",
       "[1] \"TestDataOne\"\n",
       "\n",
       "[[2]]\n",
       "[1] \"TestDataThree\"\n"
      ]
     },
     "metadata": {},
     "output_type": "display_data"
    },
    {
     "data": {
      "text/html": [
       "<ol>\n",
       "\t<li>'TestDataTwo'</li>\n",
       "\t<li>'TestDataThree'</li>\n",
       "</ol>\n"
      ],
      "text/latex": [
       "\\begin{enumerate}\n",
       "\\item 'TestDataTwo'\n",
       "\\item 'TestDataThree'\n",
       "\\end{enumerate}\n"
      ],
      "text/markdown": [
       "1. 'TestDataTwo'\n",
       "2. 'TestDataThree'\n",
       "\n",
       "\n"
      ],
      "text/plain": [
       "[[1]]\n",
       "[1] \"TestDataTwo\"\n",
       "\n",
       "[[2]]\n",
       "[1] \"TestDataThree\"\n"
      ]
     },
     "metadata": {},
     "output_type": "display_data"
    }
   ],
   "source": [
    "mylist_one = list();\n",
    "\n",
    "append_data = function(data,mylist_one){\n",
    "    \n",
    "    mylist_one = append(mylist_one,data);\n",
    "    \n",
    "    return (mylist_one);\n",
    "}\n",
    "\n",
    "\n",
    "mylist_one = append_data(\"TestDataOne\",mylist_one);\n",
    "mylist_one = append_data(\"TestDataTwo\",mylist_one);\n",
    "mylist_one = append_data(\"TestDataThree\",mylist_one);\n",
    "\n",
    "\n",
    "mylist_one;\n",
    "\n",
    "delete_data = function(key,mylist_one){\n",
    "    \n",
    "    mylist_one = mylist_one[key];\n",
    "    \n",
    "    return (mylist_one);\n",
    "}\n",
    "\n",
    "mylist_one = delete_data(-2,mylist_one);\n",
    "\n",
    "\n",
    "mylist_one;\n",
    "\n",
    "update_data = function(key,data,mylist_one){\n",
    "    \n",
    "    mylist_one[key] = data\n",
    "    \n",
    "    return (mylist_one);\n",
    "}\n",
    "\n",
    "mylist_one = update_data(1,\"TestDataTwo\",mylist_one);\n",
    "\n",
    "\n",
    "mylist_one;\n"
   ]
  },
  {
   "cell_type": "code",
   "execution_count": 24,
   "id": "41e6dc0f",
   "metadata": {},
   "outputs": [
    {
     "data": {
      "text/html": [
       "<ol>\n",
       "\t<li>'testdataone'</li>\n",
       "\t<li>'testdatatwo'</li>\n",
       "\t<li>'testdatathree'</li>\n",
       "</ol>\n"
      ],
      "text/latex": [
       "\\begin{enumerate}\n",
       "\\item 'testdataone'\n",
       "\\item 'testdatatwo'\n",
       "\\item 'testdatathree'\n",
       "\\end{enumerate}\n"
      ],
      "text/markdown": [
       "1. 'testdataone'\n",
       "2. 'testdatatwo'\n",
       "3. 'testdatathree'\n",
       "\n",
       "\n"
      ],
      "text/plain": [
       "[[1]]\n",
       "[1] \"testdataone\"\n",
       "\n",
       "[[2]]\n",
       "[1] \"testdatatwo\"\n",
       "\n",
       "[[3]]\n",
       "[1] \"testdatathree\"\n"
      ]
     },
     "metadata": {},
     "output_type": "display_data"
    },
    {
     "data": {
      "text/html": [
       "<ol>\n",
       "\t<li>'testdataone'</li>\n",
       "\t<li>'testdatathree'</li>\n",
       "</ol>\n"
      ],
      "text/latex": [
       "\\begin{enumerate}\n",
       "\\item 'testdataone'\n",
       "\\item 'testdatathree'\n",
       "\\end{enumerate}\n"
      ],
      "text/markdown": [
       "1. 'testdataone'\n",
       "2. 'testdatathree'\n",
       "\n",
       "\n"
      ],
      "text/plain": [
       "[[1]]\n",
       "[1] \"testdataone\"\n",
       "\n",
       "[[2]]\n",
       "[1] \"testdatathree\"\n"
      ]
     },
     "metadata": {},
     "output_type": "display_data"
    },
    {
     "data": {
      "text/html": [
       "<ol>\n",
       "\t<li>'TestDataTwo'</li>\n",
       "\t<li>'testdatathree'</li>\n",
       "</ol>\n"
      ],
      "text/latex": [
       "\\begin{enumerate}\n",
       "\\item 'TestDataTwo'\n",
       "\\item 'testdatathree'\n",
       "\\end{enumerate}\n"
      ],
      "text/markdown": [
       "1. 'TestDataTwo'\n",
       "2. 'testdatathree'\n",
       "\n",
       "\n"
      ],
      "text/plain": [
       "[[1]]\n",
       "[1] \"TestDataTwo\"\n",
       "\n",
       "[[2]]\n",
       "[1] \"testdatathree\"\n"
      ]
     },
     "metadata": {},
     "output_type": "display_data"
    }
   ],
   "source": [
    "mylist_one = list();\n",
    "\n",
    "append_data = function(data,mylist_one){\n",
    "   \n",
    "    mylist_one = append(mylist_one,data);\n",
    "    \n",
    "    return (mylist_one);\n",
    "}\n",
    "\n",
    "\n",
    "mylist_one = append_data(\"testdataone\",mylist_one);\n",
    "mylist_one = append_data(\"testdatatwo\",mylist_one);\n",
    "mylist_one = append_data(\"testdatathree\",mylist_one);\n",
    "\n",
    "mylist_one;\n",
    "\n",
    "delete_data = function(key,mylist_one){\n",
    "    mylist_one = mylist_one[key];\n",
    "    \n",
    "    return (mylist_one);\n",
    "    \n",
    "}\n",
    "\n",
    "mylist_one = delete_data(-2,mylist_one);\n",
    "\n",
    "\n",
    "mylist_one;\n",
    "\n",
    "update_data = function(key,data,mylist_one){\n",
    "    \n",
    "    mylist_one[key] = data\n",
    "    \n",
    "    return (mylist_one);\n",
    "}\n",
    "\n",
    "mylist_one = update_data(1,\"TestDataTwo\",mylist_one);\n",
    "\n",
    "\n",
    "mylist_one;\n"
   ]
  },
  {
   "cell_type": "code",
   "execution_count": null,
   "id": "30c8a123",
   "metadata": {},
   "outputs": [],
   "source": []
  },
  {
   "cell_type": "code",
   "execution_count": null,
   "id": "00bf7022",
   "metadata": {},
   "outputs": [],
   "source": []
  }
 ],
 "metadata": {
  "kernelspec": {
   "display_name": "R",
   "language": "R",
   "name": "ir"
  },
  "language_info": {
   "codemirror_mode": "r",
   "file_extension": ".r",
   "mimetype": "text/x-r-source",
   "name": "R",
   "pygments_lexer": "r",
   "version": "3.6.1"
  }
 },
 "nbformat": 4,
 "nbformat_minor": 5
}
