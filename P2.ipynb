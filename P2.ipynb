{
 "cells": [
  {
   "cell_type": "code",
   "execution_count": 4,
   "id": "fe2eb151",
   "metadata": {},
   "outputs": [
    {
     "name": "stdout",
     "output_type": "stream",
     "text": [
      "[1] \"Test Ok\"\n"
     ]
    }
   ],
   "source": [
    "# global scope\n",
    "Name <- \"\"\n",
    "\n",
    "for (i in 1:10){\n",
    "    if(i==5){\n",
    "        Name <- \"Test Ok\"\n",
    "    }\n",
    "}\n",
    "\n",
    "print(Name)"
   ]
  },
  {
   "cell_type": "code",
   "execution_count": 3,
   "id": "ca36c887",
   "metadata": {},
   "outputs": [
    {
     "name": "stdout",
     "output_type": "stream",
     "text": [
      "[1] \"Test Ok\"\n"
     ]
    }
   ],
   "source": [
    "for (i in 1:10){\n",
    "    # Local scope\n",
    "    Name <- \"\"\n",
    "    if(i==5){\n",
    "        Name <- \"Test Ok\"\n",
    "        print(Name)\n",
    "    }\n",
    "}\n",
    "\n"
   ]
  },
  {
   "cell_type": "code",
   "execution_count": 5,
   "id": "991b4855",
   "metadata": {},
   "outputs": [
    {
     "name": "stdout",
     "output_type": "stream",
     "text": [
      "[1] 10\n",
      "[1] 10\n",
      "[1] 10\n"
     ]
    }
   ],
   "source": [
    "a<-b<-c<-10\n",
    "\n",
    "\n",
    "print(a)\n",
    "print(b)\n",
    "print(c)\n"
   ]
  },
  {
   "cell_type": "code",
   "execution_count": 9,
   "id": "fd2ca6ff",
   "metadata": {},
   "outputs": [
    {
     "name": "stdout",
     "output_type": "stream",
     "text": [
      "[1] 20\n",
      "[1] 9\n",
      "[1] 5\n"
     ]
    }
   ],
   "source": [
    "a<-b<-c<-5\n",
    "\n",
    "for (i in 1:10){\n",
    "    a<-a+i\n",
    "    b<-a-b\n",
    "    if(i==c){\n",
    " \n",
    "    print(a)\n",
    "    print(b)\n",
    "    print(c)\n",
    "        \n",
    "    }\n",
    "}\n",
    "\n",
    "\n",
    "\n"
   ]
  },
  {
   "cell_type": "code",
   "execution_count": 23,
   "id": "08671f80",
   "metadata": {},
   "outputs": [
    {
     "data": {
      "text/html": [
       "1.5656+3i"
      ],
      "text/latex": [
       "1.5656+3i"
      ],
      "text/markdown": [
       "1.5656+3i"
      ],
      "text/plain": [
       "[1] 1.5656+3i"
      ]
     },
     "metadata": {},
     "output_type": "display_data"
    },
    {
     "data": {
      "text/html": [
       "'complex'"
      ],
      "text/latex": [
       "'complex'"
      ],
      "text/markdown": [
       "'complex'"
      ],
      "text/plain": [
       "[1] \"complex\""
      ]
     },
     "metadata": {},
     "output_type": "display_data"
    },
    {
     "data": {
      "text/html": [
       "'complex'"
      ],
      "text/latex": [
       "'complex'"
      ],
      "text/markdown": [
       "'complex'"
      ],
      "text/plain": [
       "[1] \"complex\""
      ]
     },
     "metadata": {},
     "output_type": "display_data"
    },
    {
     "name": "stdout",
     "output_type": "stream",
     "text": [
      "[1] 1.5656+0i\n"
     ]
    }
   ],
   "source": [
    "Testing <- 1.5656\n",
    "Testing1 <- 3i\n",
    "\n",
    "Testing1+Testing\n",
    "\n",
    "class(Testing1)\n",
    "\n",
    "testone = as.complex(Testing)\n",
    "\n",
    "class(testone)\n",
    "\n",
    "print(testone)"
   ]
  },
  {
   "cell_type": "code",
   "execution_count": 24,
   "id": "9230ab2f",
   "metadata": {},
   "outputs": [
    {
     "data": {
      "text/html": [
       "15"
      ],
      "text/latex": [
       "15"
      ],
      "text/markdown": [
       "15"
      ],
      "text/plain": [
       "[1] 15"
      ]
     },
     "metadata": {},
     "output_type": "display_data"
    },
    {
     "data": {
      "text/html": [
       "5"
      ],
      "text/latex": [
       "5"
      ],
      "text/markdown": [
       "5"
      ],
      "text/plain": [
       "[1] 5"
      ]
     },
     "metadata": {},
     "output_type": "display_data"
    },
    {
     "data": {
      "text/html": [
       "50"
      ],
      "text/latex": [
       "50"
      ],
      "text/markdown": [
       "50"
      ],
      "text/plain": [
       "[1] 50"
      ]
     },
     "metadata": {},
     "output_type": "display_data"
    },
    {
     "data": {
      "text/html": [
       "2"
      ],
      "text/latex": [
       "2"
      ],
      "text/markdown": [
       "2"
      ],
      "text/plain": [
       "[1] 2"
      ]
     },
     "metadata": {},
     "output_type": "display_data"
    },
    {
     "data": {
      "text/html": [
       "1e+05"
      ],
      "text/latex": [
       "1e+05"
      ],
      "text/markdown": [
       "1e+05"
      ],
      "text/plain": [
       "[1] 1e+05"
      ]
     },
     "metadata": {},
     "output_type": "display_data"
    }
   ],
   "source": [
    "a <- 10\n",
    "b <- 5\n",
    "\n",
    "\n",
    "a+b\n",
    "a-b\n",
    "a*b\n",
    "a/b\n",
    "a^b\n"
   ]
  },
  {
   "cell_type": "code",
   "execution_count": 25,
   "id": "69254b1e",
   "metadata": {},
   "outputs": [
    {
     "data": {
      "text/html": [
       "100"
      ],
      "text/latex": [
       "100"
      ],
      "text/markdown": [
       "100"
      ],
      "text/plain": [
       "[1] 100"
      ]
     },
     "metadata": {},
     "output_type": "display_data"
    }
   ],
   "source": [
    "max(10,100,16,50)\n"
   ]
  },
  {
   "cell_type": "code",
   "execution_count": 26,
   "id": "676c7aa6",
   "metadata": {},
   "outputs": [
    {
     "data": {
      "text/html": [
       "10"
      ],
      "text/latex": [
       "10"
      ],
      "text/markdown": [
       "10"
      ],
      "text/plain": [
       "[1] 10"
      ]
     },
     "metadata": {},
     "output_type": "display_data"
    }
   ],
   "source": [
    "min(10,100,16,50)"
   ]
  },
  {
   "cell_type": "code",
   "execution_count": 29,
   "id": "0aae5a70",
   "metadata": {},
   "outputs": [
    {
     "data": {
      "text/html": [
       "1.4142135623731"
      ],
      "text/latex": [
       "1.4142135623731"
      ],
      "text/markdown": [
       "1.4142135623731"
      ],
      "text/plain": [
       "[1] 1.414214"
      ]
     },
     "metadata": {},
     "output_type": "display_data"
    }
   ],
   "source": [
    "sqrt(2)"
   ]
  },
  {
   "cell_type": "code",
   "execution_count": 32,
   "id": "a88a29c7",
   "metadata": {},
   "outputs": [
    {
     "data": {
      "text/html": [
       "5.69"
      ],
      "text/latex": [
       "5.69"
      ],
      "text/markdown": [
       "5.69"
      ],
      "text/plain": [
       "[1] 5.69"
      ]
     },
     "metadata": {},
     "output_type": "display_data"
    },
    {
     "data": {
      "text/html": [
       "5.69"
      ],
      "text/latex": [
       "5.69"
      ],
      "text/markdown": [
       "5.69"
      ],
      "text/plain": [
       "[1] 5.69"
      ]
     },
     "metadata": {},
     "output_type": "display_data"
    }
   ],
   "source": [
    "a = 5.69\n",
    "\n",
    "a\n",
    "abs(a)\n"
   ]
  },
  {
   "cell_type": "code",
   "execution_count": 34,
   "id": "96e61557",
   "metadata": {},
   "outputs": [
    {
     "data": {
      "text/html": [
       "2"
      ],
      "text/latex": [
       "2"
      ],
      "text/markdown": [
       "2"
      ],
      "text/plain": [
       "[1] 2"
      ]
     },
     "metadata": {},
     "output_type": "display_data"
    }
   ],
   "source": [
    "ceiling(1.4)"
   ]
  },
  {
   "cell_type": "code",
   "execution_count": 37,
   "id": "d538aa9b",
   "metadata": {},
   "outputs": [
    {
     "data": {
      "text/html": [
       "1"
      ],
      "text/latex": [
       "1"
      ],
      "text/markdown": [
       "1"
      ],
      "text/plain": [
       "[1] 1"
      ]
     },
     "metadata": {},
     "output_type": "display_data"
    }
   ],
   "source": [
    "floor(1.99)"
   ]
  },
  {
   "cell_type": "code",
   "execution_count": 61,
   "id": "50c73bd2",
   "metadata": {},
   "outputs": [
    {
     "name": "stdout",
     "output_type": "stream",
     "text": [
      "Hello Good Morning !\b Welcome to \"R Programming\" Class."
     ]
    }
   ],
   "source": [
    "abc = \"Hello Good Morning !\\b Welcome to \\\"R Programming\\\" Class.\"\n",
    "\n",
    "#abc\n",
    "cat(abc)\n",
    "\n",
    "#nchar(abc)\n",
    "\n",
    "#grepl(\"Class\",abc)"
   ]
  },
  {
   "cell_type": "code",
   "execution_count": 68,
   "id": "3fb6b49d",
   "metadata": {},
   "outputs": [
    {
     "data": {
      "text/html": [
       "TRUE"
      ],
      "text/latex": [
       "TRUE"
      ],
      "text/markdown": [
       "TRUE"
      ],
      "text/plain": [
       "[1] TRUE"
      ]
     },
     "metadata": {},
     "output_type": "display_data"
    },
    {
     "data": {
      "text/html": [
       "TRUE"
      ],
      "text/latex": [
       "TRUE"
      ],
      "text/markdown": [
       "TRUE"
      ],
      "text/plain": [
       "[1] TRUE"
      ]
     },
     "metadata": {},
     "output_type": "display_data"
    },
    {
     "data": {
      "text/html": [
       "FALSE"
      ],
      "text/latex": [
       "FALSE"
      ],
      "text/markdown": [
       "FALSE"
      ],
      "text/plain": [
       "[1] FALSE"
      ]
     },
     "metadata": {},
     "output_type": "display_data"
    },
    {
     "data": {
      "text/html": [
       "FALSE"
      ],
      "text/latex": [
       "FALSE"
      ],
      "text/markdown": [
       "FALSE"
      ],
      "text/plain": [
       "[1] FALSE"
      ]
     },
     "metadata": {},
     "output_type": "display_data"
    },
    {
     "data": {
      "text/html": [
       "TRUE"
      ],
      "text/latex": [
       "TRUE"
      ],
      "text/markdown": [
       "TRUE"
      ],
      "text/plain": [
       "[1] TRUE"
      ]
     },
     "metadata": {},
     "output_type": "display_data"
    }
   ],
   "source": [
    "a<-2\n",
    "b<-3\n",
    "\n",
    "a!=3\n",
    "b>=2\n",
    "b==a\n",
    "b<=a\n",
    "a==2\n"
   ]
  },
  {
   "cell_type": "code",
   "execution_count": 78,
   "id": "7622187c",
   "metadata": {},
   "outputs": [
    {
     "name": "stdout",
     "output_type": "stream",
     "text": [
      "[1] \"test two\"\n"
     ]
    }
   ],
   "source": [
    "a <-0\n",
    "\n",
    "if(a!=3&&a>3){\n",
    "    print(\"test ok\")\n",
    "}else if(a==3){\n",
    "    print(\"test one\")\n",
    "}else{\n",
    "    print(\"test two\")\n",
    "}"
   ]
  },
  {
   "cell_type": "code",
   "execution_count": null,
   "id": "3778edfd",
   "metadata": {},
   "outputs": [],
   "source": []
  },
  {
   "cell_type": "code",
   "execution_count": null,
   "id": "45c101c6",
   "metadata": {},
   "outputs": [],
   "source": []
  }
 ],
 "metadata": {
  "kernelspec": {
   "display_name": "R",
   "language": "R",
   "name": "ir"
  },
  "language_info": {
   "codemirror_mode": "r",
   "file_extension": ".r",
   "mimetype": "text/x-r-source",
   "name": "R",
   "pygments_lexer": "r",
   "version": "3.6.1"
  }
 },
 "nbformat": 4,
 "nbformat_minor": 5
}
