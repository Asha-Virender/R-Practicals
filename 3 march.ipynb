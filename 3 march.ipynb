{
 "cells": [
  {
   "cell_type": "markdown",
   "id": "c84b60b2",
   "metadata": {},
   "source": [
    "practice 1"
   ]
  },
  {
   "cell_type": "code",
   "execution_count": 4,
   "id": "0fa25c5f",
   "metadata": {},
   "outputs": [
    {
     "name": "stdout",
     "output_type": "stream",
     "text": [
      "[1] \"Test Ok\"\n"
     ]
    }
   ],
   "source": [
    "for (i in 1:10){\n",
    "\n",
    "    Name <- \"\"\n",
    "    if(i==5){\n",
    "        result <- \"Test Ok\"\n",
    "        print(result)\n",
    "    }\n",
    "}\n"
   ]
  },
  {
   "cell_type": "markdown",
   "id": "285f0048",
   "metadata": {},
   "source": [
    "practice 2"
   ]
  },
  {
   "cell_type": "code",
   "execution_count": 3,
   "id": "5117ece0",
   "metadata": {},
   "outputs": [
    {
     "name": "stdout",
     "output_type": "stream",
     "text": [
      "[1] \"done\"\n"
     ]
    }
   ],
   "source": [
    "\n",
    "Name <- \"\"\n",
    "\n",
    "for (i in 10:15){\n",
    "    if(i==13){\n",
    "        result <- \"done\"\n",
    "    }\n",
    "}\n",
    "\n",
    "print(result)"
   ]
  },
  {
   "cell_type": "code",
   "execution_count": 18,
   "id": "54526f82",
   "metadata": {},
   "outputs": [
    {
     "name": "stdout",
     "output_type": "stream",
     "text": [
      "[1] \"fail\"\n"
     ]
    }
   ],
   "source": [
    "a <<- 15\n",
    "\n",
    "if (a==10){\n",
    "    \n",
    "    print(\"input ok\")\n",
    "    \n",
    "}else if(a==1){\n",
    "    print(\"input not ok\")\n",
    "\n",
    "}else{\n",
    "    print(\"fail\");\n",
    "}\n"
   ]
  },
  {
   "cell_type": "code",
   "execution_count": 21,
   "id": "cafe001f",
   "metadata": {},
   "outputs": [
    {
     "name": "stdout",
     "output_type": "stream",
     "text": [
      "[1] \"9\"\n"
     ]
    }
   ],
   "source": [
    "a <<- 9\n",
    "\n",
    "if (a==9){\n",
    "    \n",
    "    print (\"9\")\n",
    "    \n",
    "}else if (a==3){\n",
    "    print(\"fail\")\n",
    "    \n",
    "}"
   ]
  },
  {
   "cell_type": "markdown",
   "id": "c97ff73c",
   "metadata": {},
   "source": [
    "practice "
   ]
  },
  {
   "cell_type": "code",
   "execution_count": 12,
   "id": "dc694ee8",
   "metadata": {},
   "outputs": [
    {
     "name": "stdout",
     "output_type": "stream",
     "text": [
      "[1] 44\n",
      "[1] 11\n",
      "[1] 8\n"
     ]
    }
   ],
   "source": [
    "a<-b<-8\n",
    "for (i in 1:50){\n",
    "    a<-a+i\n",
    "    b<-(2*a)/c\n",
    "    if(i==c){\n",
    " \n",
    "    print(a)\n",
    "    print(b)\n",
    "    print(c)\n",
    "        \n",
    "    }\n",
    "}\n"
   ]
  },
  {
   "cell_type": "markdown",
   "id": "72c7476c",
   "metadata": {},
   "source": [
    "practice 3"
   ]
  },
  {
   "cell_type": "code",
   "execution_count": 16,
   "id": "0eca76e3",
   "metadata": {},
   "outputs": [
    {
     "name": "stdout",
     "output_type": "stream",
     "text": [
      "[1] \"one\"\n"
     ]
    }
   ],
   "source": [
    "a <-12\n",
    "s\n",
    "if(a!=10&&a<10){\n",
    "    print(\"test ok\")\n",
    "}else if(a==10+2){\n",
    "    print(\"one\")\n",
    "}else{\n",
    "    print(\"two\")\n",
    "}"
   ]
  },
  {
   "cell_type": "code",
   "execution_count": null,
   "id": "6e66faa6",
   "metadata": {},
   "outputs": [],
   "source": []
  }
 ],
 "metadata": {
  "kernelspec": {
   "display_name": "R",
   "language": "R",
   "name": "ir"
  },
  "language_info": {
   "codemirror_mode": "r",
   "file_extension": ".r",
   "mimetype": "text/x-r-source",
   "name": "R",
   "pygments_lexer": "r",
   "version": "3.6.1"
  }
 },
 "nbformat": 4,
 "nbformat_minor": 5
}
